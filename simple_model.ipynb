{
 "cells": [
  {
   "cell_type": "code",
   "execution_count": 2,
   "id": "311169a5-1ad8-4c90-9516-407a7d0f61dc",
   "metadata": {},
   "outputs": [],
   "source": [
    "import torch\n",
    "import torch.nn as nn\n",
    "import torch.nn.functional as F\n",
    "import pandas as pd\n",
    "import matplotlib.pyplot as plt\n",
    "%matplotlib inline"
   ]
  },
  {
   "cell_type": "code",
   "execution_count": 3,
   "id": "0af68815-f649-46ae-87c0-8cb0d3d02070",
   "metadata": {},
   "outputs": [],
   "source": [
    "class Model(nn.Module):\n",
    "    def __init__(self, input_features=4, output_features=3, h1=8, h2=9):\n",
    "        super().__init__()\n",
    "        self.fc1 = nn.Linear(input_features, h1)\n",
    "        self.fc2 = nn.Linear(h1, h2)\n",
    "        self.fc3 = nn.Linear(h2, output_features)\n",
    "\n",
    "    def forward(self,x):\n",
    "        x = F.relu(self.fc1(x))\n",
    "        x = F.relu(self.fc2(x))\n",
    "        x = self.fc3(x)\n",
    "\n",
    "        return x\n",
    "\n",
    "\n"
   ]
  },
  {
   "cell_type": "code",
   "execution_count": 4,
   "id": "38b221c9-8afa-4d85-85a8-5ff917637f4d",
   "metadata": {},
   "outputs": [],
   "source": [
    "#Loading the dataset\n",
    "\n",
    "from ucimlrepo import fetch_ucirepo \n",
    "from random import shuffle\n",
    "\n",
    "# fetch dataset \n",
    "iris = fetch_ucirepo(id=53) \n",
    "  \n",
    "# data (as pandas dataframes) \n",
    "X = iris.data.features \n",
    "y = iris.data.targets \n",
    "  \n",
    "# metadata \n",
    "#print(iris.metadata) \n",
    "  \n",
    "# variable information \n",
    "#print(iris.variables) \n",
    "\n",
    "unique_classes = y['class'].unique()\n",
    "\n",
    "#print(unique_classes)\n",
    "\n",
    "'''\n",
    "Shuffling technique. Commented out as labels need to be constant for reproducibility\n",
    "class_int = [i for i in range(3)]\n",
    "shuffle(class_int)\n",
    "class_int\n",
    "'''\n",
    "\n",
    "y.loc[:,\"class\"] = y.loc[:,\"class\"].replace(\"Iris-setosa\",0)\n",
    "y.loc[:,\"class\"] = y.loc[:,\"class\"].replace(\"Iris-versicolor\",1)\n",
    "y.loc[:,\"class\"] = y.loc[:,\"class\"].replace(\"Iris-virginica\",2)\n",
    "\n",
    "#print(y['class'].unique())\n",
    "\n",
    "from sklearn.model_selection import train_test_split\n",
    "X_train, X_test, y_train, y_test = train_test_split(X, y, test_size=0.2, random_state=40) #random_state is for reproducibility\n",
    "\n",
    "\n",
    "#Creating a seed for reproducibility\n",
    "torch.manual_seed(587)\n",
    "\n",
    "#Create a new Model\n",
    "m = Model()\n",
    "\n",
    "# rerun the previous cell before running this or change the variable name of X_train and X_test\n",
    "X_train = torch.tensor(X_train.values, dtype=torch.float32)\n",
    "X_test = torch.tensor(X_test.values, dtype=torch.float32)\n",
    "\n",
    "\n",
    "y_train = torch.tensor(y_train[\"class\"].values.astype(float), dtype=torch.int64)\n",
    "y_test = torch.tensor(y_test[\"class\"].values.astype(float), dtype=torch.int64)"
   ]
  },
  {
   "cell_type": "code",
   "execution_count": 5,
   "id": "9058613f-ae6b-4770-9fe4-2c36ce105660",
   "metadata": {},
   "outputs": [],
   "source": [
    "#Set the criterion for measuring the loss function\n",
    "criterion = nn.CrossEntropyLoss()\n",
    "\n",
    "#Choose Adam Optimizer, learning rate=lr; if the error doesn't decrease a number of epochs, lower the learning rate(Adam property?)\n",
    "optimizer=torch.optim.Adam(m.parameters(),lr=0.01)"
   ]
  },
  {
   "cell_type": "code",
   "execution_count": 6,
   "id": "3fcdd9a6-e07e-4fc1-8175-579595c1f207",
   "metadata": {},
   "outputs": [],
   "source": [
    "#Train our model\n",
    "\n",
    "epochs=300\n",
    "losses=list()\n",
    "\n",
    "for i in range(epochs):\n",
    "    y_pred = m.forward(X_train) #Obtain predicted results\n",
    "    loss = criterion(y_pred, y_train)\n",
    "    losses.append(loss.detach().numpy())\n",
    "    optimizer.zero_grad()\n",
    "    loss.backward()\n",
    "    optimizer.step()\n",
    "    "
   ]
  },
  {
   "cell_type": "code",
   "execution_count": 7,
   "id": "ea96f439-afb5-42a3-ba71-818797426cc1",
   "metadata": {},
   "outputs": [
    {
     "data": {
      "text/plain": [
       "Text(0.5, 0, 'Epoch')"
      ]
     },
     "execution_count": 7,
     "metadata": {},
     "output_type": "execute_result"
    },
    {
     "data": {
      "image/png": "[encoded data removed]",
      "text/plain": [
       "<Figure size 640x480 with 1 Axes>"
      ]
     },
     "metadata": {},
     "output_type": "display_data"
    }
   ],
   "source": [
    "plt.plot(range(epochs),losses)\n",
    "plt.ylabel(\"loss/error\")\n",
    "plt.xlabel(\"Epoch\")"
   ]
  },
  {
   "cell_type": "code",
   "execution_count": 8,
   "id": "b4624ac7-1326-439b-8922-0b807b15255e",
   "metadata": {},
   "outputs": [
    {
     "name": "stdout",
     "output_type": "stream",
     "text": [
      "Calculated loss for test set:0.02904016524553299\n",
      "For 0th test:tensor([ 11.8009,   1.8121, -10.3843]) \t 0\n",
      "For 1th test:tensor([-3.2704,  8.8267,  5.4004]) \t 1\n",
      "For 2th test:tensor([-9.0918,  8.6760, 15.8585]) \t 2\n",
      "For 3th test:tensor([-11.0132,  10.0907,  19.0815]) \t 2\n",
      "For 4th test:tensor([-1.4765,  8.8231,  2.1877]) \t 1\n",
      "For 5th test:tensor([-10.5193,   8.3956,  18.4137]) \t 2\n",
      "For 6th test:tensor([-4.2218,  8.9555,  7.0351]) \t 1\n",
      "For 7th test:tensor([-1.6898,  8.9916,  2.5511]) \t 1\n",
      "For 8th test:tensor([-3.5571,  8.5544,  5.9232]) \t 1\n",
      "For 9th test:tensor([ 13.1910,   2.1301, -11.5836]) \t 0\n",
      "For 10th test:tensor([-2.3460,  8.7363,  3.6828]) \t 1\n",
      "For 11th test:tensor([ 12.2853,   2.1776, -10.8595]) \t 0\n",
      "For 12th test:tensor([ 12.9537,   2.0748, -11.3813]) \t 0\n",
      "For 13th test:tensor([-5.6461,  8.9421,  9.6390]) \t 2\n",
      "For 14th test:tensor([ 1.5526,  8.9929, -3.2816]) \t 1\n",
      "For 15th test:tensor([-11.1000,   8.6777,  19.4371]) \t 2\n",
      "For 16th test:tensor([-6.1339,  8.9224, 10.4908]) \t 2\n",
      "For 17th test:tensor([-9.0085,  9.1043, 15.6133]) \t 2\n",
      "For 18th test:tensor([-2.6947, 10.1857,  4.2466]) \t 1\n",
      "For 19th test:tensor([-1.5718,  8.5499,  2.4142]) \t 1\n",
      "For 20th test:tensor([-10.6887,   8.2289,  18.6429]) \t 2\n",
      "For 21th test:tensor([-12.0402,   9.4428,  20.8774]) \t 2\n",
      "For 22th test:tensor([-1.9293,  8.6510,  2.9885]) \t 1\n",
      "For 23th test:tensor([ 12.8910,   2.2292, -11.3644]) \t 0\n",
      "For 24th test:tensor([ 0.6834,  9.1350, -1.7834]) \t 1\n",
      "For 25th test:tensor([ 13.4999,   2.7170, -11.9670]) \t 0\n",
      "For 26th test:tensor([ 12.3676,   1.3791, -10.7216]) \t 0\n",
      "For 27th test:tensor([-7.5963,  9.0335, 13.0439]) \t 2\n",
      "For 28th test:tensor([ 12.5068,   2.0382, -11.0052]) \t 0\n",
      "For 29th test:tensor([ 0.5942,  8.8383, -1.7072]) \t 1\n",
      "We classified 30 samples correctly!\n"
     ]
    }
   ],
   "source": [
    "#Evaluate Model on test data\n",
    "\n",
    "with torch.no_grad(): #Turn off back propagation\n",
    "    y_eval = m.forward(X_test)\n",
    "    loss = criterion(y_eval,y_test) #Find the loss between actual and predicted\n",
    "\n",
    "print(f\"Calculated loss for test set:{loss}\")\n",
    "\n",
    "correct = 0\n",
    "#Comparison of how the cells are being evaluated\n",
    "with torch.no_grad():\n",
    "    for i, data in enumerate(X_test):\n",
    "        y_val = m.forward(data)\n",
    "\n",
    "        print(f\"For {i}th test:{str(y_val)} \\t {y_test[i]}\")\n",
    "\n",
    "        if y_val.argmax().item()==y_test[i]:\n",
    "            correct += 1\n",
    "\n",
    "print(f\"We classified {correct} samples correctly!\")\n"
   ]
  },
  {
   "cell_type": "code",
   "execution_count": 12,
   "id": "777e3a26-56ff-45b5-a165-6ad8cf42ec8d",
   "metadata": {},
   "outputs": [
    {
     "name": "stdout",
     "output_type": "stream",
     "text": [
      "tensor([4.4000, 3.0000, 1.3000, 0.2000])\n",
      "tensor([[0.6054, 1.2790, 0.9201, 0.8600]])\n"
     ]
    }
   ],
   "source": [
    "# testing on new data\n",
    "X_test_row = X_test[0,:]\n",
    "print(X_test_row)\n",
    "\n",
    "X_test_new = torch.rand(1,4)*1.4\n",
    "print(X_test_new)"
   ]
  },
  {
   "cell_type": "code",
   "execution_count": null,
   "id": "c9e3ca4a-b3a5-404c-b520-f23337db328a",
   "metadata": {},
   "outputs": [],
   "source": [
    "#Evaluating the result on X_test_new:\n",
    "\n",
    "with torch.no_grad():\n",
    "    y_test_new = m(X_test_new)\n",
    "    print(y_test_new)\n",
    "    print(y_test_new.argmax().item())"
   ]
  }
 ],
 "metadata": {
  "kernelspec": {
   "display_name": "Python 3 (ipykernel)",
   "language": "python",
   "name": "python3"
  },
  "language_info": {
   "codemirror_mode": {
    "name": "ipython",
    "version": 3
   },
   "file_extension": ".py",
   "mimetype": "text/x-python",
   "name": "python",
   "nbconvert_exporter": "python",
   "pygments_lexer": "ipython3",
   "version": "3.11.6"
  }
 },
 "nbformat": 4,
 "nbformat_minor": 5
}
