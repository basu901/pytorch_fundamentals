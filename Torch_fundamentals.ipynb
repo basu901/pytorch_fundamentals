{
 "cells": [
  {
   "cell_type": "raw",
   "id": "4e134a01-7c12-459a-abda-6196f08d9afb",
   "metadata": {},
   "source": [
    "### Installing Pytorch\n",
    "\n",
    "Recommended method is to pip3 install on Mac.\n",
    "\n",
    "Torch modules will be installed in the site-packages directory of the python3 version being used as default."
   ]
  },
  {
   "cell_type": "code",
   "execution_count": 5,
   "id": "c3390db2-4446-40d5-a1ed-bf5c0b696da8",
   "metadata": {},
   "outputs": [
    {
     "data": {
      "text/plain": [
       "'2.1.0'"
      ]
     },
     "execution_count": 5,
     "metadata": {},
     "output_type": "execute_result"
    }
   ],
   "source": [
    "import torch\n",
    "\n",
    "torch.__version__"
   ]
  },
  {
   "cell_type": "code",
   "execution_count": 7,
   "id": "9403178f-48d5-40e1-a42c-65e604892df0",
   "metadata": {},
   "outputs": [
    {
     "name": "stdout",
     "output_type": "stream",
     "text": [
      "tensor([[[0., 0., 0., 0.],\n",
      "         [0., 0., 0., 0.],\n",
      "         [0., 0., 0., 0.]],\n",
      "\n",
      "        [[0., 0., 0., 0.],\n",
      "         [0., 0., 0., 0.],\n",
      "         [0., 0., 0., 0.]]])\n"
     ]
    }
   ],
   "source": [
    "t = torch.zeros(2,3,4)\n",
    "print(t)"
   ]
  },
  {
   "cell_type": "code",
   "execution_count": 8,
   "id": "13043897-66ad-431c-8b52-80e5aa95b274",
   "metadata": {},
   "outputs": [
    {
     "data": {
      "text/plain": [
       "<torch._C.Generator at 0x10975ddd0>"
      ]
     },
     "execution_count": 8,
     "metadata": {},
     "output_type": "execute_result"
    }
   ],
   "source": [
    "torch.manual_seed(768)\n"
   ]
  },
  {
   "cell_type": "code",
   "execution_count": 9,
   "id": "02730c66-a876-4bb0-be7b-18b7f378b684",
   "metadata": {},
   "outputs": [],
   "source": [
    "r = torch.rand(3,4)\n",
    "r2 = torch.rand(3,4)"
   ]
  },
  {
   "cell_type": "code",
   "execution_count": 10,
   "id": "47b8a71a-1205-462c-b7b6-aa1ace102e9a",
   "metadata": {},
   "outputs": [
    {
     "name": "stdout",
     "output_type": "stream",
     "text": [
      "tensor([[0.9827, 0.1657, 0.4688, 0.6988],\n",
      "        [0.8622, 0.0763, 0.0937, 0.6115],\n",
      "        [0.4748, 0.3492, 0.1464, 0.9127]])\n",
      "tensor([[0.5522, 0.1142, 0.8497, 0.6751],\n",
      "        [0.5858, 0.1434, 0.3115, 0.1251],\n",
      "        [0.4849, 0.3378, 0.3834, 0.0108]])\n"
     ]
    }
   ],
   "source": [
    "print(r)\n",
    "print(r2)"
   ]
  },
  {
   "cell_type": "code",
   "execution_count": 11,
   "id": "a13d81e1-e67d-453b-a36c-1f3ab30d3e8a",
   "metadata": {},
   "outputs": [
    {
     "name": "stdout",
     "output_type": "stream",
     "text": [
      "tensor([[0.9827, 0.1657, 0.4688, 0.6988],\n",
      "        [0.8622, 0.0763, 0.0937, 0.6115],\n",
      "        [0.4748, 0.3492, 0.1464, 0.9127]])\n",
      "tensor([[0.5522, 0.1142, 0.8497, 0.6751],\n",
      "        [0.5858, 0.1434, 0.3115, 0.1251],\n",
      "        [0.4849, 0.3378, 0.3834, 0.0108]])\n"
     ]
    }
   ],
   "source": [
    "torch.manual_seed(768)\n",
    "r3 = torch.rand(3,4)\n",
    "r4 = torch.rand(3,4)\n",
    "\n",
    "print(r3)\n",
    "print(r4)"
   ]
  },
  {
   "cell_type": "code",
   "execution_count": 12,
   "id": "8183c924-e75e-4259-8332-84fb542fd5e4",
   "metadata": {},
   "outputs": [
    {
     "name": "stdout",
     "output_type": "stream",
     "text": [
      "4831726000 4831728496\n"
     ]
    }
   ],
   "source": [
    "print(id(r),id(r2))"
   ]
  },
  {
   "cell_type": "code",
   "execution_count": 13,
   "id": "953752dd-fa69-477f-a2c6-95a8c0dc86f6",
   "metadata": {},
   "outputs": [
    {
     "name": "stdout",
     "output_type": "stream",
     "text": [
      "4395906352 4831734928\n"
     ]
    }
   ],
   "source": [
    "print(id(r3),id(r4))"
   ]
  },
  {
   "cell_type": "code",
   "execution_count": 15,
   "id": "835db11e-9894-4f4d-9cf0-b4edc97bed53",
   "metadata": {},
   "outputs": [
    {
     "data": {
      "text/plain": [
       "2"
      ]
     },
     "execution_count": 15,
     "metadata": {},
     "output_type": "execute_result"
    }
   ],
   "source": [
    "r.dim()"
   ]
  },
  {
   "cell_type": "code",
   "execution_count": 16,
   "id": "a1ad2a94-7a39-48f6-8f0f-912a1195c705",
   "metadata": {},
   "outputs": [
    {
     "ename": "TypeError",
     "evalue": "'torch.Size' object is not callable",
     "output_type": "error",
     "traceback": [
      "\u001b[0;31m---------------------------------------------------------------------------\u001b[0m",
      "\u001b[0;31mTypeError\u001b[0m                                 Traceback (most recent call last)",
      "Cell \u001b[0;32mIn[16], line 1\u001b[0m\n\u001b[0;32m----> 1\u001b[0m \u001b[43mr\u001b[49m\u001b[38;5;241;43m.\u001b[39;49m\u001b[43mshape\u001b[49m\u001b[43m(\u001b[49m\u001b[43m)\u001b[49m\n",
      "\u001b[0;31mTypeError\u001b[0m: 'torch.Size' object is not callable"
     ]
    }
   ],
   "source": [
    "r.shape()"
   ]
  },
  {
   "cell_type": "code",
   "execution_count": 17,
   "id": "84bba4b7-59b2-4c64-934c-c92f52f73a00",
   "metadata": {},
   "outputs": [
    {
     "data": {
      "text/plain": [
       "torch.Size([3, 4])"
      ]
     },
     "execution_count": 17,
     "metadata": {},
     "output_type": "execute_result"
    }
   ],
   "source": [
    "r.shape"
   ]
  },
  {
   "cell_type": "code",
   "execution_count": 21,
   "id": "66cc7f90-b78a-4aa6-b52b-ea70e5fb9d57",
   "metadata": {},
   "outputs": [
    {
     "data": {
      "text/plain": [
       "4"
      ]
     },
     "execution_count": 21,
     "metadata": {},
     "output_type": "execute_result"
    }
   ],
   "source": [
    "multi_dim = torch.rand(2,3,4,5)\n",
    "multi_dim.shape\n",
    "multi_dim.ndim"
   ]
  },
  {
   "cell_type": "code",
   "execution_count": 22,
   "id": "a709c468-52ab-46fb-b1b9-819af6c6601c",
   "metadata": {},
   "outputs": [
    {
     "data": {
      "text/plain": [
       "tensor([[[[0.8876, 0.0582, 0.7309, 0.0427, 0.7058],\n",
       "          [0.5788, 0.3605, 0.1971, 0.2515, 0.8551],\n",
       "          [0.3536, 0.8667, 0.3235, 0.7239, 0.0895],\n",
       "          [0.9327, 0.1189, 0.9842, 0.9028, 0.4418]],\n",
       "\n",
       "         [[0.3228, 0.1289, 0.7725, 0.0839, 0.4225],\n",
       "          [0.0651, 0.9845, 0.1520, 0.9040, 0.4994],\n",
       "          [0.9057, 0.2188, 0.8337, 0.3603, 0.2706],\n",
       "          [0.1558, 0.6337, 0.5682, 0.2261, 0.8841]],\n",
       "\n",
       "         [[0.2799, 0.0399, 0.6422, 0.0577, 0.0246],\n",
       "          [0.9265, 0.5851, 0.4744, 0.3165, 0.0961],\n",
       "          [0.8933, 0.7144, 0.9345, 0.7588, 0.7181],\n",
       "          [0.0901, 0.8411, 0.4571, 0.8156, 0.1669]]],\n",
       "\n",
       "\n",
       "        [[[0.4853, 0.3305, 0.7507, 0.9261, 0.1614],\n",
       "          [0.4535, 0.9071, 0.9215, 0.3729, 0.9477],\n",
       "          [0.2472, 0.8259, 0.3284, 0.8506, 0.6598],\n",
       "          [0.5551, 0.6201, 0.4014, 0.1175, 0.4546]],\n",
       "\n",
       "         [[0.6148, 0.5477, 0.5799, 0.3120, 0.7705],\n",
       "          [0.2714, 0.1759, 0.3447, 0.8331, 0.7973],\n",
       "          [0.1136, 0.1700, 0.4861, 0.0683, 0.3890],\n",
       "          [0.6806, 0.3619, 0.5271, 0.7879, 0.3988]],\n",
       "\n",
       "         [[0.2993, 0.7191, 0.5000, 0.6672, 0.5434],\n",
       "          [0.1292, 0.2839, 0.9996, 0.8731, 0.0360],\n",
       "          [0.0564, 0.8300, 0.2490, 0.7383, 0.9450],\n",
       "          [0.7955, 0.8922, 0.2559, 0.2932, 0.3276]]]])"
      ]
     },
     "execution_count": 22,
     "metadata": {},
     "output_type": "execute_result"
    }
   ],
   "source": [
    "multi_dim"
   ]
  },
  {
   "cell_type": "code",
   "execution_count": 24,
   "id": "c8baa72d-e3e3-45c4-a00b-655844a2eaf7",
   "metadata": {},
   "outputs": [
    {
     "name": "stdout",
     "output_type": "stream",
     "text": [
      "5082185600\n",
      "5082080816\n"
     ]
    }
   ],
   "source": [
    "vals = [3,4,6,7]\n",
    "print(id(vals))\n",
    "\n",
    "val_tensor = torch.tensor(vals)\n",
    "print(id(val_tensor))"
   ]
  },
  {
   "cell_type": "code",
   "execution_count": 27,
   "id": "8b8d8c31-ba46-4a34-814a-f8cd463c49c6",
   "metadata": {},
   "outputs": [
    {
     "name": "stdout",
     "output_type": "stream",
     "text": [
      "torch.float32\n",
      "torch.int64\n"
     ]
    }
   ],
   "source": [
    "#The default data type in torch is float32\n",
    "print(r.dtype)\n",
    "\n",
    "#The one created from integers has int64\n",
    "print(val_tensor.dtype)"
   ]
  },
  {
   "cell_type": "markdown",
   "id": "4ec012bd-3d13-4f75-b29f-fcfeab4938ee",
   "metadata": {},
   "source": [
    "## Converting one tensor type to another:\n",
    "\n",
    "The most common cause for pytorch errors:\n",
    "1. Tensors are of incorrect datatype\n",
    "2. Tensors are not of the right shape\n",
    "3. Tensors are not on the right device."
   ]
  },
  {
   "cell_type": "code",
   "execution_count": 29,
   "id": "76a19b49-db7c-45fe-83d6-879b43969beb",
   "metadata": {},
   "outputs": [
    {
     "name": "stdout",
     "output_type": "stream",
     "text": [
      "tensor([[0.5182, 0.5741, 0.7825, 0.0019],\n",
      "        [0.2760, 0.1158, 0.9120, 0.1505],\n",
      "        [0.3776, 0.3321, 0.3307, 0.8383]])\n",
      "torch.float32\n"
     ]
    }
   ],
   "source": [
    "default_tensor_type = torch.rand(size=(3,4), dtype=None)\n",
    "print(default_tensor_type)\n",
    "print(default_tensor_type.dtype)"
   ]
  },
  {
   "cell_type": "code",
   "execution_count": 30,
   "id": "1f5c9bce-34ce-48df-9731-cb290c7d5130",
   "metadata": {},
   "outputs": [
    {
     "name": "stdout",
     "output_type": "stream",
     "text": [
      "tensor([[0.5181, 0.5742, 0.7827, 0.0019],\n",
      "        [0.2759, 0.1158, 0.9121, 0.1505],\n",
      "        [0.3777, 0.3320, 0.3308, 0.8384]], dtype=torch.float16)\n",
      "torch.float16\n"
     ]
    }
   ],
   "source": [
    "#Converting the default type to a float16\n",
    "\n",
    "float_16 = default_tensor_type.type(torch.float16)\n",
    "print(float_16)\n",
    "print(float_16.dtype)"
   ]
  },
  {
   "cell_type": "code",
   "execution_count": 31,
   "id": "5f23b68a-5890-4b85-a035-f7e8e4eb29fa",
   "metadata": {},
   "outputs": [
    {
     "name": "stdout",
     "output_type": "stream",
     "text": [
      "The dtype of tensor: torch.float16\n",
      "The shape of tensor: torch.Size([3, 4])\n",
      "The device of tensor: cpu\n"
     ]
    }
   ],
   "source": [
    "#How to check the parameters which cause these errors:\n",
    "\n",
    "print(f\"The dtype of tensor: {float_16.dtype}\")\n",
    "print(f\"The shape of tensor: {float_16.shape}\")\n",
    "print(f\"The device of tensor: {float_16.device}\")"
   ]
  },
  {
   "cell_type": "code",
   "execution_count": null,
   "id": "05b4a531-cc66-4eff-89a9-783472f705bc",
   "metadata": {},
   "outputs": [],
   "source": []
  }
 ],
 "metadata": {
  "kernelspec": {
   "display_name": "Python 3 (ipykernel)",
   "language": "python",
   "name": "python3"
  },
  "language_info": {
   "codemirror_mode": {
    "name": "ipython",
    "version": 3
   },
   "file_extension": ".py",
   "mimetype": "text/x-python",
   "name": "python",
   "nbconvert_exporter": "python",
   "pygments_lexer": "ipython3",
   "version": "3.11.6"
  }
 },
 "nbformat": 4,
 "nbformat_minor": 5
}
