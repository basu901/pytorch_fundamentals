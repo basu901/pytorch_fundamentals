{
 "cells": [
  {
   "cell_type": "raw",
   "id": "4e134a01-7c12-459a-abda-6196f08d9afb",
   "metadata": {},
   "source": [
    "### Installing Pytorch\n",
    "\n",
    "Recommended method is to pip3 install on Mac.\n",
    "\n",
    "Torch modules will be installed in the site-packages directory of the python3 version being used as default."
   ]
  },
  {
   "cell_type": "code",
   "execution_count": 14,
   "id": "c3390db2-4446-40d5-a1ed-bf5c0b696da8",
   "metadata": {},
   "outputs": [
    {
     "data": {
      "text/plain": [
       "'2.1.0'"
      ]
     },
     "execution_count": 14,
     "metadata": {},
     "output_type": "execute_result"
    }
   ],
   "source": [
    "import torch\n",
    "\n",
    "torch.__version__"
   ]
  },
  {
   "cell_type": "code",
   "execution_count": 7,
   "id": "9403178f-48d5-40e1-a42c-65e604892df0",
   "metadata": {},
   "outputs": [
    {
     "name": "stdout",
     "output_type": "stream",
     "text": [
      "tensor([[[0., 0., 0., 0.],\n",
      "         [0., 0., 0., 0.],\n",
      "         [0., 0., 0., 0.]],\n",
      "\n",
      "        [[0., 0., 0., 0.],\n",
      "         [0., 0., 0., 0.],\n",
      "         [0., 0., 0., 0.]]])\n"
     ]
    }
   ],
   "source": [
    "t = torch.zeros(2,3,4)\n",
    "print(t)"
   ]
  },
  {
   "cell_type": "code",
   "execution_count": 3,
   "id": "0f6e5aa1-f611-45e1-a6a3-4e4bdf2569ea",
   "metadata": {},
   "outputs": [
    {
     "name": "stdout",
     "output_type": "stream",
     "text": [
      "tensor([[[0.6661, 0.4469, 0.5711, 0.0655],\n",
      "         [0.5287, 0.5702, 0.2937, 0.9976],\n",
      "         [0.9836, 0.0779, 0.4422, 0.1843],\n",
      "         [0.3270, 0.5566, 0.7321, 0.5062],\n",
      "         [0.5818, 0.9609, 0.8674, 0.8648]],\n",
      "\n",
      "        [[0.6992, 0.5041, 0.7831, 0.5359],\n",
      "         [0.8963, 0.2904, 0.3031, 0.7595],\n",
      "         [0.9245, 0.7881, 0.0952, 0.8457],\n",
      "         [0.5469, 0.1698, 0.5924, 0.1169],\n",
      "         [0.9770, 0.5414, 0.9540, 0.4662]],\n",
      "\n",
      "        [[0.3470, 0.3516, 0.6113, 0.5772],\n",
      "         [0.8412, 0.8051, 0.4313, 0.4569],\n",
      "         [0.8112, 0.4118, 0.6283, 0.8895],\n",
      "         [0.6296, 0.6117, 0.3958, 0.9092],\n",
      "         [0.2391, 0.9337, 0.6311, 0.5187]]])\n"
     ]
    }
   ],
   "source": [
    "#Random tensor to check how squeeze and unsqueeze works\n",
    "rand_tensor = torch.rand(3,5,4)\n",
    "print(rand_tensor)\n",
    "#dim 2 or 4, determines the no.of cols per row\n",
    "#dim 1 or 5, determines the number of rows constituting the matrix\n",
    "#dim 0 or 3 , determines the number of matrices we want in total."
   ]
  },
  {
   "cell_type": "code",
   "execution_count": 4,
   "id": "b42fffd7-df12-46f9-ad10-034df4e85352",
   "metadata": {},
   "outputs": [
    {
     "name": "stdout",
     "output_type": "stream",
     "text": [
      "tensor(0.8412)\n"
     ]
    }
   ],
   "source": [
    "print(rand_tensor[2][1][0])"
   ]
  },
  {
   "cell_type": "code",
   "execution_count": 8,
   "id": "725d2b2f-a3c1-4146-b9ff-46642712f30a",
   "metadata": {},
   "outputs": [
    {
     "name": "stdout",
     "output_type": "stream",
     "text": [
      "unsqueezed:\n",
      "tensor([[[[0.6661, 0.4469, 0.5711, 0.0655],\n",
      "          [0.5287, 0.5702, 0.2937, 0.9976],\n",
      "          [0.9836, 0.0779, 0.4422, 0.1843],\n",
      "          [0.3270, 0.5566, 0.7321, 0.5062],\n",
      "          [0.5818, 0.9609, 0.8674, 0.8648]]],\n",
      "\n",
      "\n",
      "        [[[0.6992, 0.5041, 0.7831, 0.5359],\n",
      "          [0.8963, 0.2904, 0.3031, 0.7595],\n",
      "          [0.9245, 0.7881, 0.0952, 0.8457],\n",
      "          [0.5469, 0.1698, 0.5924, 0.1169],\n",
      "          [0.9770, 0.5414, 0.9540, 0.4662]]],\n",
      "\n",
      "\n",
      "        [[[0.3470, 0.3516, 0.6113, 0.5772],\n",
      "          [0.8412, 0.8051, 0.4313, 0.4569],\n",
      "          [0.8112, 0.4118, 0.6283, 0.8895],\n",
      "          [0.6296, 0.6117, 0.3958, 0.9092],\n",
      "          [0.2391, 0.9337, 0.6311, 0.5187]]]])\n",
      "Squeezed\n",
      "tensor([[[0.6661, 0.4469, 0.5711, 0.0655],\n",
      "         [0.5287, 0.5702, 0.2937, 0.9976],\n",
      "         [0.9836, 0.0779, 0.4422, 0.1843],\n",
      "         [0.3270, 0.5566, 0.7321, 0.5062],\n",
      "         [0.5818, 0.9609, 0.8674, 0.8648]],\n",
      "\n",
      "        [[0.6992, 0.5041, 0.7831, 0.5359],\n",
      "         [0.8963, 0.2904, 0.3031, 0.7595],\n",
      "         [0.9245, 0.7881, 0.0952, 0.8457],\n",
      "         [0.5469, 0.1698, 0.5924, 0.1169],\n",
      "         [0.9770, 0.5414, 0.9540, 0.4662]],\n",
      "\n",
      "        [[0.3470, 0.3516, 0.6113, 0.5772],\n",
      "         [0.8412, 0.8051, 0.4313, 0.4569],\n",
      "         [0.8112, 0.4118, 0.6283, 0.8895],\n",
      "         [0.6296, 0.6117, 0.3958, 0.9092],\n",
      "         [0.2391, 0.9337, 0.6311, 0.5187]]])\n"
     ]
    }
   ],
   "source": [
    "#Adding another dimension along dim 1 or 5, notice the extra bracket on each matrix\n",
    "r = torch.unsqueeze(rand_tensor,1)\n",
    "print(\"unsqueezed:\")\n",
    "print(r)\n",
    "\n",
    "print(\"Squeezed\")\n",
    "print(torch.squeeze(r,1))"
   ]
  },
  {
   "cell_type": "code",
   "execution_count": 11,
   "id": "0d653186-de63-43ea-895b-4485f006658d",
   "metadata": {},
   "outputs": [
    {
     "name": "stdout",
     "output_type": "stream",
     "text": [
      "unsqueezed:\n",
      "tensor([[[[0.6661, 0.4469, 0.5711, 0.0655]],\n",
      "\n",
      "         [[0.5287, 0.5702, 0.2937, 0.9976]],\n",
      "\n",
      "         [[0.9836, 0.0779, 0.4422, 0.1843]],\n",
      "\n",
      "         [[0.3270, 0.5566, 0.7321, 0.5062]],\n",
      "\n",
      "         [[0.5818, 0.9609, 0.8674, 0.8648]]],\n",
      "\n",
      "\n",
      "        [[[0.6992, 0.5041, 0.7831, 0.5359]],\n",
      "\n",
      "         [[0.8963, 0.2904, 0.3031, 0.7595]],\n",
      "\n",
      "         [[0.9245, 0.7881, 0.0952, 0.8457]],\n",
      "\n",
      "         [[0.5469, 0.1698, 0.5924, 0.1169]],\n",
      "\n",
      "         [[0.9770, 0.5414, 0.9540, 0.4662]]],\n",
      "\n",
      "\n",
      "        [[[0.3470, 0.3516, 0.6113, 0.5772]],\n",
      "\n",
      "         [[0.8412, 0.8051, 0.4313, 0.4569]],\n",
      "\n",
      "         [[0.8112, 0.4118, 0.6283, 0.8895]],\n",
      "\n",
      "         [[0.6296, 0.6117, 0.3958, 0.9092]],\n",
      "\n",
      "         [[0.2391, 0.9337, 0.6311, 0.5187]]]])\n",
      "Squeezed\n",
      "tensor([[[0.6661, 0.4469, 0.5711, 0.0655],\n",
      "         [0.5287, 0.5702, 0.2937, 0.9976],\n",
      "         [0.9836, 0.0779, 0.4422, 0.1843],\n",
      "         [0.3270, 0.5566, 0.7321, 0.5062],\n",
      "         [0.5818, 0.9609, 0.8674, 0.8648]],\n",
      "\n",
      "        [[0.6992, 0.5041, 0.7831, 0.5359],\n",
      "         [0.8963, 0.2904, 0.3031, 0.7595],\n",
      "         [0.9245, 0.7881, 0.0952, 0.8457],\n",
      "         [0.5469, 0.1698, 0.5924, 0.1169],\n",
      "         [0.9770, 0.5414, 0.9540, 0.4662]],\n",
      "\n",
      "        [[0.3470, 0.3516, 0.6113, 0.5772],\n",
      "         [0.8412, 0.8051, 0.4313, 0.4569],\n",
      "         [0.8112, 0.4118, 0.6283, 0.8895],\n",
      "         [0.6296, 0.6117, 0.3958, 0.9092],\n",
      "         [0.2391, 0.9337, 0.6311, 0.5187]]])\n"
     ]
    }
   ],
   "source": [
    "#Adding another dimension along dim 2 or 4, notice the extra bracket on each matrix row\n",
    "k = torch.unsqueeze(rand_tensor,2)\n",
    "print(\"unsqueezed:\")\n",
    "print(k)\n",
    "\n",
    "print(\"Squeezed\")\n",
    "print(torch.squeeze(k,2))"
   ]
  },
  {
   "cell_type": "code",
   "execution_count": 12,
   "id": "867647e4-7157-4687-aca9-4b20e7669178",
   "metadata": {},
   "outputs": [
    {
     "name": "stdout",
     "output_type": "stream",
     "text": [
      "tensor([[[[[0.1393, 0.0265, 0.6935, 0.9394, 0.0016, 0.5979],\n",
      "           [0.9426, 0.3148, 0.3197, 0.7497, 0.7199, 0.2199],\n",
      "           [0.1565, 0.3567, 0.4162, 0.6221, 0.9296, 0.6082],\n",
      "           [0.8870, 0.0554, 0.8134, 0.9872, 0.9826, 0.3506],\n",
      "           [0.9068, 0.9831, 0.0255, 0.3592, 0.4633, 0.0466]],\n",
      "\n",
      "          [[0.1482, 0.0563, 0.6582, 0.6962, 0.9950, 0.6101],\n",
      "           [0.6754, 0.1809, 0.2183, 0.8058, 0.9008, 0.9549],\n",
      "           [0.8611, 0.5473, 0.7921, 0.0296, 0.2463, 0.3207],\n",
      "           [0.3681, 0.5508, 0.2525, 0.1379, 0.2719, 0.3776],\n",
      "           [0.1431, 0.8424, 0.2052, 0.1540, 0.7404, 0.4732]]],\n",
      "\n",
      "\n",
      "         [[[0.4331, 0.1113, 0.6408, 0.8401, 0.7864, 0.4320],\n",
      "           [0.6712, 0.2434, 0.0734, 0.1536, 0.4209, 0.6564],\n",
      "           [0.5659, 0.1990, 0.2796, 0.1061, 0.8948, 0.2214],\n",
      "           [0.5520, 0.4114, 0.5505, 0.8338, 0.9103, 0.0924],\n",
      "           [0.9755, 0.2489, 0.6134, 0.7513, 0.2908, 0.5480]],\n",
      "\n",
      "          [[0.1002, 0.3093, 0.9528, 0.3961, 0.7255, 0.9272],\n",
      "           [0.0810, 0.2055, 0.9491, 0.7337, 0.8718, 0.9035],\n",
      "           [0.1878, 0.6691, 0.4042, 0.5337, 0.7326, 0.7766],\n",
      "           [0.8708, 0.2866, 0.6037, 0.4647, 0.5871, 0.8064],\n",
      "           [0.4736, 0.6549, 0.8799, 0.0310, 0.7046, 0.0957]]]],\n",
      "\n",
      "\n",
      "\n",
      "        [[[[0.2305, 0.5453, 0.3588, 0.5003, 0.3306, 0.2498],\n",
      "           [0.4833, 0.8115, 0.6022, 0.1959, 0.9526, 0.8974],\n",
      "           [0.1963, 0.6031, 0.9292, 0.7555, 0.8937, 0.9441],\n",
      "           [0.0499, 0.9772, 0.6637, 0.5663, 0.7924, 0.3146],\n",
      "           [0.8956, 0.1845, 0.4966, 0.4686, 0.7935, 0.4707]],\n",
      "\n",
      "          [[0.1212, 0.3872, 0.8411, 0.2977, 0.7555, 0.8988],\n",
      "           [0.2335, 0.7713, 0.9140, 0.7764, 0.5036, 0.8898],\n",
      "           [0.1617, 0.5184, 0.3242, 0.7363, 0.8352, 0.9138],\n",
      "           [0.4629, 0.5237, 0.5773, 0.4074, 0.6170, 0.5897],\n",
      "           [0.8348, 0.3245, 0.3325, 0.0190, 0.5763, 0.5133]]],\n",
      "\n",
      "\n",
      "         [[[0.3073, 0.6820, 0.8042, 0.2704, 0.2460, 0.2493],\n",
      "           [0.1295, 0.0805, 0.6497, 0.4972, 0.5695, 0.6450],\n",
      "           [0.1784, 0.8844, 0.9651, 0.7254, 0.0201, 0.8997],\n",
      "           [0.1524, 0.9654, 0.3851, 0.4629, 0.2900, 0.2199],\n",
      "           [0.6181, 0.9834, 0.5958, 0.2427, 0.0609, 0.5767]],\n",
      "\n",
      "          [[0.7104, 0.1717, 0.8479, 0.9435, 0.9161, 0.9909],\n",
      "           [0.7712, 0.8703, 0.9886, 0.4007, 0.0411, 0.7009],\n",
      "           [0.7285, 0.2795, 0.8735, 0.2775, 0.0155, 0.8549],\n",
      "           [0.5979, 0.6410, 0.1878, 0.5789, 0.8813, 0.6952],\n",
      "           [0.8160, 0.7185, 0.5733, 0.4099, 0.7299, 0.5372]]]],\n",
      "\n",
      "\n",
      "\n",
      "        [[[[0.9418, 0.1603, 0.3706, 0.5256, 0.9697, 0.8903],\n",
      "           [0.8058, 0.6540, 0.4647, 0.5128, 0.4814, 0.5375],\n",
      "           [0.3322, 0.2477, 0.1286, 0.5989, 0.7980, 0.9320],\n",
      "           [0.6921, 0.9187, 0.3660, 0.9479, 0.6437, 0.1938],\n",
      "           [0.2796, 0.3756, 0.0304, 0.6815, 0.5515, 0.1931]],\n",
      "\n",
      "          [[0.3967, 0.2413, 0.8761, 0.6692, 0.5000, 0.5505],\n",
      "           [0.7721, 0.2044, 0.0517, 0.2737, 0.1912, 0.0735],\n",
      "           [0.5834, 0.3942, 0.9767, 0.9612, 0.2666, 0.5707],\n",
      "           [0.2774, 0.2139, 0.6148, 0.6658, 0.5972, 0.0646],\n",
      "           [0.1542, 0.6086, 0.2760, 0.9329, 0.2439, 0.2108]]],\n",
      "\n",
      "\n",
      "         [[[0.6358, 0.9616, 0.2092, 0.6121, 0.0669, 0.8647],\n",
      "           [0.9649, 0.3889, 0.0865, 0.6560, 0.9467, 0.8308],\n",
      "           [0.2408, 0.3500, 0.7568, 0.4221, 0.7743, 0.9610],\n",
      "           [0.4907, 0.1389, 0.9426, 0.7827, 0.4401, 0.4356],\n",
      "           [0.2360, 0.6591, 0.3745, 0.3695, 0.5277, 0.5354]],\n",
      "\n",
      "          [[0.2448, 0.6604, 0.7045, 0.6525, 0.5246, 0.4591],\n",
      "           [0.2847, 0.9745, 0.8046, 0.6149, 0.7287, 0.4220],\n",
      "           [0.0234, 0.9589, 0.4823, 0.8755, 0.0145, 0.0556],\n",
      "           [0.6432, 0.1854, 0.5936, 0.6820, 0.7790, 0.0908],\n",
      "           [0.0778, 0.0785, 0.2528, 0.6187, 0.6923, 0.8233]]]]])\n"
     ]
    }
   ],
   "source": [
    "new_multi = torch.rand(3,2,2,5,6)\n",
    "print(new_multi)"
   ]
  },
  {
   "cell_type": "code",
   "execution_count": 8,
   "id": "13043897-66ad-431c-8b52-80e5aa95b274",
   "metadata": {},
   "outputs": [
    {
     "data": {
      "text/plain": [
       "<torch._C.Generator at 0x10975ddd0>"
      ]
     },
     "execution_count": 8,
     "metadata": {},
     "output_type": "execute_result"
    }
   ],
   "source": [
    "torch.manual_seed(768)\n"
   ]
  },
  {
   "cell_type": "code",
   "execution_count": 9,
   "id": "02730c66-a876-4bb0-be7b-18b7f378b684",
   "metadata": {},
   "outputs": [],
   "source": [
    "r = torch.rand(3,4)\n",
    "r2 = torch.rand(3,4)"
   ]
  },
  {
   "cell_type": "code",
   "execution_count": 10,
   "id": "47b8a71a-1205-462c-b7b6-aa1ace102e9a",
   "metadata": {},
   "outputs": [
    {
     "name": "stdout",
     "output_type": "stream",
     "text": [
      "tensor([[0.9827, 0.1657, 0.4688, 0.6988],\n",
      "        [0.8622, 0.0763, 0.0937, 0.6115],\n",
      "        [0.4748, 0.3492, 0.1464, 0.9127]])\n",
      "tensor([[0.5522, 0.1142, 0.8497, 0.6751],\n",
      "        [0.5858, 0.1434, 0.3115, 0.1251],\n",
      "        [0.4849, 0.3378, 0.3834, 0.0108]])\n"
     ]
    }
   ],
   "source": [
    "print(r)\n",
    "print(r2)"
   ]
  },
  {
   "cell_type": "code",
   "execution_count": 11,
   "id": "a13d81e1-e67d-453b-a36c-1f3ab30d3e8a",
   "metadata": {},
   "outputs": [
    {
     "name": "stdout",
     "output_type": "stream",
     "text": [
      "tensor([[0.9827, 0.1657, 0.4688, 0.6988],\n",
      "        [0.8622, 0.0763, 0.0937, 0.6115],\n",
      "        [0.4748, 0.3492, 0.1464, 0.9127]])\n",
      "tensor([[0.5522, 0.1142, 0.8497, 0.6751],\n",
      "        [0.5858, 0.1434, 0.3115, 0.1251],\n",
      "        [0.4849, 0.3378, 0.3834, 0.0108]])\n"
     ]
    }
   ],
   "source": [
    "torch.manual_seed(768)\n",
    "r3 = torch.rand(3,4)\n",
    "r4 = torch.rand(3,4)\n",
    "\n",
    "print(r3)\n",
    "print(r4)"
   ]
  },
  {
   "cell_type": "code",
   "execution_count": 12,
   "id": "8183c924-e75e-4259-8332-84fb542fd5e4",
   "metadata": {},
   "outputs": [
    {
     "name": "stdout",
     "output_type": "stream",
     "text": [
      "4831726000 4831728496\n"
     ]
    }
   ],
   "source": [
    "print(id(r),id(r2))"
   ]
  },
  {
   "cell_type": "code",
   "execution_count": 13,
   "id": "953752dd-fa69-477f-a2c6-95a8c0dc86f6",
   "metadata": {},
   "outputs": [
    {
     "name": "stdout",
     "output_type": "stream",
     "text": [
      "4395906352 4831734928\n"
     ]
    }
   ],
   "source": [
    "print(id(r3),id(r4))"
   ]
  },
  {
   "cell_type": "code",
   "execution_count": 15,
   "id": "835db11e-9894-4f4d-9cf0-b4edc97bed53",
   "metadata": {},
   "outputs": [
    {
     "data": {
      "text/plain": [
       "2"
      ]
     },
     "execution_count": 15,
     "metadata": {},
     "output_type": "execute_result"
    }
   ],
   "source": [
    "r.dim()"
   ]
  },
  {
   "cell_type": "code",
   "execution_count": 16,
   "id": "a1ad2a94-7a39-48f6-8f0f-912a1195c705",
   "metadata": {},
   "outputs": [
    {
     "ename": "TypeError",
     "evalue": "'torch.Size' object is not callable",
     "output_type": "error",
     "traceback": [
      "\u001b[0;31m---------------------------------------------------------------------------\u001b[0m",
      "\u001b[0;31mTypeError\u001b[0m                                 Traceback (most recent call last)",
      "Cell \u001b[0;32mIn[16], line 1\u001b[0m\n\u001b[0;32m----> 1\u001b[0m \u001b[43mr\u001b[49m\u001b[38;5;241;43m.\u001b[39;49m\u001b[43mshape\u001b[49m\u001b[43m(\u001b[49m\u001b[43m)\u001b[49m\n",
      "\u001b[0;31mTypeError\u001b[0m: 'torch.Size' object is not callable"
     ]
    }
   ],
   "source": [
    "r.shape()"
   ]
  },
  {
   "cell_type": "code",
   "execution_count": 17,
   "id": "84bba4b7-59b2-4c64-934c-c92f52f73a00",
   "metadata": {},
   "outputs": [
    {
     "data": {
      "text/plain": [
       "torch.Size([3, 4])"
      ]
     },
     "execution_count": 17,
     "metadata": {},
     "output_type": "execute_result"
    }
   ],
   "source": [
    "r.shape"
   ]
  },
  {
   "cell_type": "code",
   "execution_count": 21,
   "id": "66cc7f90-b78a-4aa6-b52b-ea70e5fb9d57",
   "metadata": {},
   "outputs": [
    {
     "data": {
      "text/plain": [
       "4"
      ]
     },
     "execution_count": 21,
     "metadata": {},
     "output_type": "execute_result"
    }
   ],
   "source": [
    "multi_dim = torch.rand(2,3,4,5)\n",
    "multi_dim.shape\n",
    "multi_dim.ndim"
   ]
  },
  {
   "cell_type": "code",
   "execution_count": 22,
   "id": "a709c468-52ab-46fb-b1b9-819af6c6601c",
   "metadata": {},
   "outputs": [
    {
     "data": {
      "text/plain": [
       "tensor([[[[0.8876, 0.0582, 0.7309, 0.0427, 0.7058],\n",
       "          [0.5788, 0.3605, 0.1971, 0.2515, 0.8551],\n",
       "          [0.3536, 0.8667, 0.3235, 0.7239, 0.0895],\n",
       "          [0.9327, 0.1189, 0.9842, 0.9028, 0.4418]],\n",
       "\n",
       "         [[0.3228, 0.1289, 0.7725, 0.0839, 0.4225],\n",
       "          [0.0651, 0.9845, 0.1520, 0.9040, 0.4994],\n",
       "          [0.9057, 0.2188, 0.8337, 0.3603, 0.2706],\n",
       "          [0.1558, 0.6337, 0.5682, 0.2261, 0.8841]],\n",
       "\n",
       "         [[0.2799, 0.0399, 0.6422, 0.0577, 0.0246],\n",
       "          [0.9265, 0.5851, 0.4744, 0.3165, 0.0961],\n",
       "          [0.8933, 0.7144, 0.9345, 0.7588, 0.7181],\n",
       "          [0.0901, 0.8411, 0.4571, 0.8156, 0.1669]]],\n",
       "\n",
       "\n",
       "        [[[0.4853, 0.3305, 0.7507, 0.9261, 0.1614],\n",
       "          [0.4535, 0.9071, 0.9215, 0.3729, 0.9477],\n",
       "          [0.2472, 0.8259, 0.3284, 0.8506, 0.6598],\n",
       "          [0.5551, 0.6201, 0.4014, 0.1175, 0.4546]],\n",
       "\n",
       "         [[0.6148, 0.5477, 0.5799, 0.3120, 0.7705],\n",
       "          [0.2714, 0.1759, 0.3447, 0.8331, 0.7973],\n",
       "          [0.1136, 0.1700, 0.4861, 0.0683, 0.3890],\n",
       "          [0.6806, 0.3619, 0.5271, 0.7879, 0.3988]],\n",
       "\n",
       "         [[0.2993, 0.7191, 0.5000, 0.6672, 0.5434],\n",
       "          [0.1292, 0.2839, 0.9996, 0.8731, 0.0360],\n",
       "          [0.0564, 0.8300, 0.2490, 0.7383, 0.9450],\n",
       "          [0.7955, 0.8922, 0.2559, 0.2932, 0.3276]]]])"
      ]
     },
     "execution_count": 22,
     "metadata": {},
     "output_type": "execute_result"
    }
   ],
   "source": [
    "multi_dim"
   ]
  },
  {
   "cell_type": "code",
   "execution_count": 24,
   "id": "c8baa72d-e3e3-45c4-a00b-655844a2eaf7",
   "metadata": {},
   "outputs": [
    {
     "name": "stdout",
     "output_type": "stream",
     "text": [
      "5082185600\n",
      "5082080816\n"
     ]
    }
   ],
   "source": [
    "vals = [3,4,6,7]\n",
    "print(id(vals))\n",
    "\n",
    "val_tensor = torch.tensor(vals)\n",
    "print(id(val_tensor))"
   ]
  },
  {
   "cell_type": "code",
   "execution_count": 27,
   "id": "8b8d8c31-ba46-4a34-814a-f8cd463c49c6",
   "metadata": {},
   "outputs": [
    {
     "name": "stdout",
     "output_type": "stream",
     "text": [
      "torch.float32\n",
      "torch.int64\n"
     ]
    }
   ],
   "source": [
    "#The default data type in torch is float32\n",
    "print(r.dtype)\n",
    "\n",
    "#The one created from integers has int64\n",
    "print(val_tensor.dtype)"
   ]
  },
  {
   "cell_type": "markdown",
   "id": "4ec012bd-3d13-4f75-b29f-fcfeab4938ee",
   "metadata": {},
   "source": [
    "## Converting one tensor type to another:\n",
    "\n",
    "The most common cause for pytorch errors:\n",
    "1. Tensors are of incorrect datatype\n",
    "2. Tensors are not of the right shape\n",
    "3. Tensors are not on the right device."
   ]
  },
  {
   "cell_type": "code",
   "execution_count": 29,
   "id": "76a19b49-db7c-45fe-83d6-879b43969beb",
   "metadata": {},
   "outputs": [
    {
     "name": "stdout",
     "output_type": "stream",
     "text": [
      "tensor([[0.5182, 0.5741, 0.7825, 0.0019],\n",
      "        [0.2760, 0.1158, 0.9120, 0.1505],\n",
      "        [0.3776, 0.3321, 0.3307, 0.8383]])\n",
      "torch.float32\n"
     ]
    }
   ],
   "source": [
    "default_tensor_type = torch.rand(size=(3,4), dtype=None)\n",
    "print(default_tensor_type)\n",
    "print(default_tensor_type.dtype)"
   ]
  },
  {
   "cell_type": "code",
   "execution_count": 30,
   "id": "1f5c9bce-34ce-48df-9731-cb290c7d5130",
   "metadata": {},
   "outputs": [
    {
     "name": "stdout",
     "output_type": "stream",
     "text": [
      "tensor([[0.5181, 0.5742, 0.7827, 0.0019],\n",
      "        [0.2759, 0.1158, 0.9121, 0.1505],\n",
      "        [0.3777, 0.3320, 0.3308, 0.8384]], dtype=torch.float16)\n",
      "torch.float16\n"
     ]
    }
   ],
   "source": [
    "#Converting the default type to a float16\n",
    "\n",
    "float_16 = default_tensor_type.type(torch.float16)\n",
    "print(float_16)\n",
    "print(float_16.dtype)"
   ]
  },
  {
   "cell_type": "code",
   "execution_count": 31,
   "id": "5f23b68a-5890-4b85-a035-f7e8e4eb29fa",
   "metadata": {},
   "outputs": [
    {
     "name": "stdout",
     "output_type": "stream",
     "text": [
      "The dtype of tensor: torch.float16\n",
      "The shape of tensor: torch.Size([3, 4])\n",
      "The device of tensor: cpu\n"
     ]
    }
   ],
   "source": [
    "#How to check the parameters which cause these errors:\n",
    "\n",
    "print(f\"The dtype of tensor: {float_16.dtype}\")\n",
    "print(f\"The shape of tensor: {float_16.shape}\")\n",
    "print(f\"The device of tensor: {float_16.device}\")"
   ]
  },
  {
   "cell_type": "markdown",
   "id": "e70388bb-49bd-4e54-b0f5-d8918f2ea2ee",
   "metadata": {},
   "source": [
    "**Working with Numpy and Pytorch**"
   ]
  },
  {
   "cell_type": "code",
   "execution_count": 3,
   "id": "05b4a531-cc66-4eff-89a9-783472f705bc",
   "metadata": {},
   "outputs": [
    {
     "name": "stdout",
     "output_type": "stream",
     "text": [
      "tensor([3, 4, 5, 7])\n",
      "tensor([ 9, 11, 12], dtype=torch.int32)\n",
      "torch.Size([4])\n",
      "torch.Size([3])\n"
     ]
    }
   ],
   "source": [
    "import numpy as np\n",
    "np.set_printoptions(precision=3)\n",
    "a = [3,4,5,7]\n",
    "b = np.array([9,11,12],dtype=np.int32)\n",
    "tensor_a = torch.tensor(a)\n",
    "tensor_b = torch.from_numpy(b)\n",
    "print(tensor_a)\n",
    "print(tensor_b)\n",
    "print(tensor_a.shape)\n",
    "print(tensor_b.shape)"
   ]
  },
  {
   "cell_type": "markdown",
   "id": "bfd7ff39-2c90-4ae4-9ac6-d060bec27680",
   "metadata": {},
   "source": [
    "**More Examples of Tensor Transformation**"
   ]
  },
  {
   "cell_type": "code",
   "execution_count": 10,
   "id": "06a2ac23-75db-4bce-92ad-4acaa6d4d0ed",
   "metadata": {},
   "outputs": [
    {
     "name": "stdout",
     "output_type": "stream",
     "text": [
      "tensor([ 9, 11, 12], dtype=torch.int16)\n",
      "Tensor Transpose\n",
      "tensor([[0.2755, 0.7036, 0.5216, 0.4201, 0.8663],\n",
      "        [0.7209, 0.2963, 0.1669, 0.0628, 0.8522],\n",
      "        [0.3762, 0.9295, 0.6133, 0.1967, 0.3891],\n",
      "        [0.5714, 0.6982, 0.1661, 0.6103, 0.9468]])\n",
      "torch.Size([4, 5])\n",
      "After transpose\n",
      "tensor([[0.2755, 0.7209, 0.3762, 0.5714],\n",
      "        [0.7036, 0.2963, 0.9295, 0.6982],\n",
      "        [0.5216, 0.1669, 0.6133, 0.1661],\n",
      "        [0.4201, 0.0628, 0.1967, 0.6103],\n",
      "        [0.8663, 0.8522, 0.3891, 0.9468]])\n",
      "torch.Size([5, 4])\n",
      "\n",
      "Tensor reshape\n",
      "Original Tensor:\n",
      "tensor([[0.2755, 0.7036, 0.5216, 0.4201, 0.8663],\n",
      "        [0.7209, 0.2963, 0.1669, 0.0628, 0.8522],\n",
      "        [0.3762, 0.9295, 0.6133, 0.1967, 0.3891],\n",
      "        [0.5714, 0.6982, 0.1661, 0.6103, 0.9468]])\n",
      "Reshaped: tensor([0.2755, 0.7036, 0.5216, 0.4201, 0.8663, 0.7209, 0.2963, 0.1669, 0.0628,\n",
      "        0.8522, 0.3762, 0.9295, 0.6133, 0.1967, 0.3891, 0.5714, 0.6982, 0.1661,\n",
      "        0.6103, 0.9468]) with shape torch.Size([20])\n",
      "Original Tensor: tensor([[0.2755, 0.7036, 0.5216, 0.4201, 0.8663],\n",
      "        [0.7209, 0.2963, 0.1669, 0.0628, 0.8522],\n",
      "        [0.3762, 0.9295, 0.6133, 0.1967, 0.3891],\n",
      "        [0.5714, 0.6982, 0.1661, 0.6103, 0.9468]]) with shape torch.Size([4, 5])\n",
      "\n",
      "\n",
      "Working with Squeeze\n"
     ]
    }
   ],
   "source": [
    "#Changing the datatype of a tensor to a desired type can be done using the .to function\n",
    "tensor_b_new = tensor_b.to(torch.int16)\n",
    "print(tensor_b_new)\n",
    "\n",
    "#Transposing a tensor\n",
    "print(\"Tensor Transpose\")\n",
    "t_a = torch.rand(4,5)\n",
    "print(t_a)\n",
    "print(t_a.shape)\n",
    "print(\"After transpose\")\n",
    "t_a_tr = torch.transpose(t_a,0,1)\n",
    "print(t_a_tr)\n",
    "print(t_a_tr.shape, end=\"\\n\\n\")\n",
    "\n",
    "#Reshaping the tensor to a vector\n",
    "print(\"Tensor reshape\")\n",
    "print(\"Original Tensor:\")\n",
    "print(t_a)\n",
    "reshaped_tensor = t_a.reshape(20)\n",
    "print(f\"Reshaped: {reshaped_tensor} with shape {reshaped_tensor.shape}\")\n",
    "print(f\"Original Tensor: {t_a} with shape {t_a.shape}\", end=\"\\n\\n\\n\")\n",
    "\n",
    "print(\"Working with Squeeze\")"
   ]
  },
  {
   "cell_type": "markdown",
   "id": "3f2c10e4-65f3-4a2b-a70b-d55c0b519d94",
   "metadata": {},
   "source": [
    "*Mathematical Operations on Tensors*"
   ]
  },
  {
   "cell_type": "code",
   "execution_count": 3,
   "id": "5b321177-9b6e-4cde-a11c-d072402a48e3",
   "metadata": {},
   "outputs": [
    {
     "name": "stdout",
     "output_type": "stream",
     "text": [
      "t1:tensor([[-0.0921, -0.6070,  0.8421, -0.3076, -0.7038],\n",
      "        [-0.8284,  0.1819, -0.8681,  0.4952,  0.2506]])\n",
      "t2:tensor([[-0.5737, -0.0491, -0.3240,  0.9927, -0.4124],\n",
      "        [-1.9310, -0.2797, -0.1837, -2.1295, -0.0045]])\n",
      "\n",
      "Performing element-wise multiplication\n",
      "tensor([[ 5.2817e-02,  2.9816e-02, -2.7285e-01, -3.0541e-01,  2.9023e-01],\n",
      "        [ 1.5996e+00, -5.0876e-02,  1.5951e-01, -1.0545e+00, -1.1305e-03]])\n"
     ]
    }
   ],
   "source": [
    "#Let us initialize a tensor with uniform distribution, in the range[-1,1) and another which is standard normal\n",
    "\n",
    "torch.manual_seed(43)\n",
    "t1 = 2*torch.rand(2,5)-1 #torch.rand returns a uniform distribution from the range[0,1)\n",
    "t2 = torch.normal(mean=0,std=1, size=(2,5))\n",
    "print(f\"t1:{t1}\")\n",
    "print(f\"t2:{t2}\", end=\"\\n\\n\")\n",
    "\n",
    "print(\"Performing element-wise multiplication\")\n",
    "t3 = torch.multiply(t1,t2)\n",
    "print(t3)\n"
   ]
  },
  {
   "cell_type": "code",
   "execution_count": 10,
   "id": "fb992201",
   "metadata": {},
   "outputs": [
    {
     "name": "stdout",
     "output_type": "stream",
     "text": [
      "tensor([0, 1, 2, 3, 4, 5, 6, 7, 8, 9], dtype=torch.int32)\n"
     ]
    }
   ],
   "source": [
    "from torch.utils.data import DataLoader\n",
    "t = torch.arange(10, dtype=torch.int32)\n",
    "print(t)\n",
    "data_loader_batch = DataLoader(t, batch_size=4, drop_last=False)\n",
    "data_loader = DataLoader(t)"
   ]
  },
  {
   "cell_type": "code",
   "execution_count": 13,
   "id": "bcc979ef",
   "metadata": {},
   "outputs": [
    {
     "name": "stdout",
     "output_type": "stream",
     "text": [
      "tensor([0], dtype=torch.int32)\n",
      "tensor([1], dtype=torch.int32)\n",
      "tensor([2], dtype=torch.int32)\n",
      "tensor([3], dtype=torch.int32)\n",
      "tensor([4], dtype=torch.int32)\n",
      "tensor([5], dtype=torch.int32)\n",
      "tensor([6], dtype=torch.int32)\n",
      "tensor([7], dtype=torch.int32)\n",
      "tensor([8], dtype=torch.int32)\n",
      "tensor([9], dtype=torch.int32)\n",
      "batch:0:tensor([0, 1, 2, 3], dtype=torch.int32)\n",
      "batch:1:tensor([4, 5, 6, 7], dtype=torch.int32)\n",
      "batch:2:tensor([8, 9], dtype=torch.int32)\n"
     ]
    }
   ],
   "source": [
    "for item in data_loader:\n",
    "    print(item)\n",
    "\n",
    "for i, batch in enumerate(data_loader_batch,start=0):\n",
    "    print(f\"batch:{i}:{batch}\")"
   ]
  },
  {
   "cell_type": "code",
   "execution_count": 15,
   "id": "1c97cb80",
   "metadata": {},
   "outputs": [
    {
     "name": "stdout",
     "output_type": "stream",
     "text": [
      "[(tensor([0.3490, 0.0966, 0.1141, 0.8013, 0.4495, 0.7612]), tensor([0.1200])), (tensor([0.9413, 0.6572, 0.4698, 0.2889, 0.4140, 0.1500]), tensor([0.0763]))]\n"
     ]
    }
   ],
   "source": [
    "k = [(torch.rand(6), torch.rand(1)) for _ in range(2)]\n",
    "print(k)"
   ]
  },
  {
   "cell_type": "code",
   "execution_count": null,
   "id": "af4986f5",
   "metadata": {},
   "outputs": [],
   "source": []
  }
 ],
 "metadata": {
  "kernelspec": {
   "display_name": "Python 3.11.9 64-bit",
   "language": "python",
   "name": "python3"
  },
  "language_info": {
   "codemirror_mode": {
    "name": "ipython",
    "version": 3
   },
   "file_extension": ".py",
   "mimetype": "text/x-python",
   "name": "python",
   "nbconvert_exporter": "python",
   "pygments_lexer": "ipython3",
   "version": "3.11.10"
  },
  "vscode": {
   "interpreter": {
    "hash": "5c7b89af1651d0b8571dde13640ecdccf7d5a6204171d6ab33e7c296e100e08a"
   }
  }
 },
 "nbformat": 4,
 "nbformat_minor": 5
}
